{
  "cells": [
    {
      "cell_type": "markdown",
      "metadata": {
        "id": "view-in-github",
        "colab_type": "text"
      },
      "source": [
        "<a href=\"https://colab.research.google.com/github/Patil-Ojas/Face-Mask-Detection/blob/main/facemask_vid.ipynb\" target=\"_parent\"><img src=\"https://colab.research.google.com/assets/colab-badge.svg\" alt=\"Open In Colab\"/></a>"
      ]
    },
    {
      "cell_type": "code",
      "source": [
        "from keras.applications.mobilenet_v2 import preprocess_input\n",
        "from keras.utils import img_to_array\n",
        "from keras.models import load_model\n",
        "import numpy as np\n",
        "import cv2\n",
        "import os\n",
        "from imutils.video import VideoStream\n",
        "import imutils\n",
        "import matplotlib.pyplot as plt"
      ],
      "metadata": {
        "id": "-RUeJ8W8Zwug"
      },
      "execution_count": null,
      "outputs": []
    },
    {
      "cell_type": "code",
      "source": [
        "# from os.path import dirname, join,__file__\n",
        "prototxtPath = '/content/drive/MyDrive/facemask_data/Facemask_Detection-master/Facemask_Detection-master/deploy.prototxt.txt'\n",
        "weightsPath= '/content/drive/MyDrive/facemask_data/Facemask_Detection-master/Facemask_Detection-master/res10_300x300_ssd_iter_140000.caffemodel'"
      ],
      "metadata": {
        "id": "M3BQ2R_8Zyms"
      },
      "execution_count": null,
      "outputs": []
    },
    {
      "cell_type": "code",
      "source": [
        "prototxtPath"
      ],
      "metadata": {
        "colab": {
          "base_uri": "https://localhost:8080/",
          "height": 36
        },
        "id": "9U4bYsviZ2GA",
        "outputId": "403aec97-8a38-4f73-f6ce-b6f20a0e7c00"
      },
      "execution_count": null,
      "outputs": [
        {
          "output_type": "execute_result",
          "data": {
            "text/plain": [
              "'/content/drive/MyDrive/facemask_data/Facemask_Detection-master/Facemask_Detection-master/deploy.prototxt.txt'"
            ],
            "application/vnd.google.colaboratory.intrinsic+json": {
              "type": "string"
            }
          },
          "metadata": {},
          "execution_count": 4
        }
      ]
    },
    {
      "cell_type": "code",
      "source": [
        "faceNet=cv2.dnn.readNet(weightsPath,prototxtPath)"
      ],
      "metadata": {
        "id": "_yArPHWSZ38g"
      },
      "execution_count": null,
      "outputs": []
    },
    {
      "cell_type": "code",
      "source": [
        "faceNet"
      ],
      "metadata": {
        "colab": {
          "base_uri": "https://localhost:8080/"
        },
        "id": "om_gfX5baE1W",
        "outputId": "422239c1-1aa0-4bdc-d037-318531252c4a"
      },
      "execution_count": null,
      "outputs": [
        {
          "output_type": "execute_result",
          "data": {
            "text/plain": [
              "< cv2.dnn.Net 0x7f1acfe5d190>"
            ]
          },
          "metadata": {},
          "execution_count": 6
        }
      ]
    },
    {
      "cell_type": "code",
      "source": [
        "## Load model\n",
        "model=load_model(r'/content/drive/MyDrive/facemask_data/Facemask_Detection-master/Facemask_Detection-master/model/ai_collab_4000_32_100.h5')"
      ],
      "metadata": {
        "id": "77DksktHaGrv"
      },
      "execution_count": null,
      "outputs": []
    },
    {
      "cell_type": "code",
      "source": [
        "def detect_and_predict_mask(frame,faceNet,model):\n",
        "    #grab the dimensions of the frame and then construct a blob\n",
        "    (h,w)=frame.shape[:2]\n",
        "    blob=cv2.dnn.blobFromImage(frame,1.0,(300,300),(104.0,177.0,123.0))\n",
        "    \n",
        "    faceNet.setInput(blob)\n",
        "    detections=faceNet.forward()\n",
        "    \n",
        "    #initialize our list of faces, their corresponding locations and list of predictions\n",
        "    \n",
        "    faces=[]\n",
        "    locs=[]\n",
        "    preds=[]\n",
        "    \n",
        "    for i in range(0,detections.shape[2]):\n",
        "        confidence=detections[0,0,i,2]\n",
        "    \n",
        "    \n",
        "        if confidence>0.5:\n",
        "        #we need the X,Y coordinates\n",
        "            box=detections[0,0,i,3:7]*np.array([w,h,w,h])\n",
        "            (startX,startY,endX,endY)=box.astype('int')\n",
        "        \n",
        "            #ensure the bounding boxes fall within the dimensions of the frame\n",
        "            (startX,startY)=(max(0,startX-30),max(0,startY-30))\n",
        "            (endX,endY)=(min(w-1,endX+30), min(h-1,endY+30))\n",
        "        \n",
        "            #extract the face ROI, convert it from BGR to RGB channel, resize it to 96,96 and preprocess it\n",
        "            face=frame[startY:endY, startX:endX]\n",
        "            # face=increase_brightness(face)\n",
        "            face=cv2.cvtColor(face,cv2.COLOR_BGR2RGB)\n",
        "            face=cv2.resize(face,(96,96))\n",
        "            face=img_to_array(face)\n",
        "            face=preprocess_input(face)\n",
        "        \n",
        "            faces.append(face)\n",
        "            locs.append((startX,startY,endX,endY))\n",
        "        \n",
        "    #only make a predictions if atleast one face was detected\n",
        "    if len(faces)>0:\n",
        "        faces=np.array(faces,dtype='float32')\n",
        "        preds=model.predict(faces,batch_size=6)\n",
        "        \n",
        "    return (locs,preds)"
      ],
      "metadata": {
        "id": "mb40OSsHackk"
      },
      "execution_count": null,
      "outputs": []
    },
    {
      "cell_type": "code",
      "source": [
        "from IPython.display import display, Javascript, Image\n",
        "from google.colab.output import eval_js\n",
        "from google.colab.patches import cv2_imshow\n",
        "from base64 import b64decode, b64encode\n",
        "import cv2\n",
        "import numpy as np\n",
        "import PIL\n",
        "import io\n",
        "import html\n",
        "import time\n",
        "import matplotlib.pyplot as plt\n",
        "%matplotlib inline"
      ],
      "metadata": {
        "id": "PiFVu7C-afaL"
      },
      "execution_count": null,
      "outputs": []
    },
    {
      "cell_type": "code",
      "source": [
        "# function to convert the JavaScript object into an OpenCV image\n",
        "def js_to_image(js_reply):\n",
        "  \"\"\"\n",
        "  Params:\n",
        "          js_reply: JavaScript object containing image from webcam\n",
        "  Returns:\n",
        "          img: OpenCV BGR image\n",
        "  \"\"\"\n",
        "  # decode base64 image\n",
        "  image_bytes = b64decode(js_reply.split(',')[1])\n",
        "  # convert bytes to numpy array\n",
        "  jpg_as_np = np.frombuffer(image_bytes, dtype=np.uint8)\n",
        "  # decode numpy array into OpenCV BGR image\n",
        "  img = cv2.imdecode(jpg_as_np, flags=1)\n",
        "\n",
        "  return img\n",
        "\n",
        "# function to convert OpenCV Rectangle bounding box image into base64 byte string to be overlayed on video stream\n",
        "def bbox_to_bytes(bbox_array):\n",
        "  \"\"\"\n",
        "  Params:\n",
        "          bbox_array: Numpy array (pixels) containing rectangle to overlay on video stream.\n",
        "  Returns:\n",
        "        bytes: Base64 image byte string\n",
        "  \"\"\"\n",
        "  # convert array into PIL image\n",
        "  bbox_PIL = PIL.Image.fromarray(bbox_array, 'RGBA')\n",
        "  iobuf = io.BytesIO()\n",
        "  # format bbox into png for return\n",
        "  bbox_PIL.save(iobuf, format='png')\n",
        "  # format return string\n",
        "  bbox_bytes = 'data:image/png;base64,{}'.format((str(b64encode(iobuf.getvalue()), 'utf-8')))\n",
        "\n",
        "  return bbox_bytes"
      ],
      "metadata": {
        "id": "7fdV6dF2agZX"
      },
      "execution_count": null,
      "outputs": []
    },
    {
      "cell_type": "code",
      "source": [
        "# JavaScript to properly create our live video stream using our webcam as input\n",
        "def video_stream():\n",
        "  js = Javascript('''\n",
        "    var video;\n",
        "    var div = null;\n",
        "    var stream;\n",
        "    var captureCanvas;\n",
        "    var imgElement;\n",
        "    var labelElement;\n",
        "    \n",
        "    var pendingResolve = null;\n",
        "    var shutdown = false;\n",
        "    \n",
        "    function removeDom() {\n",
        "       stream.getVideoTracks()[0].stop();\n",
        "       video.remove();\n",
        "       div.remove();\n",
        "       video = null;\n",
        "       div = null;\n",
        "       stream = null;\n",
        "       imgElement = null;\n",
        "       captureCanvas = null;\n",
        "       labelElement = null;\n",
        "    }\n",
        "    \n",
        "    function onAnimationFrame() {\n",
        "      if (!shutdown) {\n",
        "        window.requestAnimationFrame(onAnimationFrame);\n",
        "      }\n",
        "      if (pendingResolve) {\n",
        "        var result = \"\";\n",
        "        if (!shutdown) {\n",
        "          captureCanvas.getContext('2d').drawImage(video, 0, 0, 640, 480);\n",
        "          result = captureCanvas.toDataURL('image/jpeg', 0.8)\n",
        "        }\n",
        "        var lp = pendingResolve;\n",
        "        pendingResolve = null;\n",
        "        lp(result);\n",
        "      }\n",
        "    }\n",
        "    \n",
        "    async function createDom() {\n",
        "      if (div !== null) {\n",
        "        return stream;\n",
        "      }\n",
        "\n",
        "      div = document.createElement('div');\n",
        "      div.style.border = '2px solid black';\n",
        "      div.style.padding = '3px';\n",
        "      div.style.width = '100%';\n",
        "      div.style.maxWidth = '600px';\n",
        "      document.body.appendChild(div);\n",
        "      \n",
        "      const modelOut = document.createElement('div');\n",
        "      modelOut.innerHTML = \"<span>Status:</span>\";\n",
        "      labelElement = document.createElement('span');\n",
        "      labelElement.innerText = 'No data';\n",
        "      labelElement.style.fontWeight = 'bold';\n",
        "      modelOut.appendChild(labelElement);\n",
        "      div.appendChild(modelOut);\n",
        "           \n",
        "      video = document.createElement('video');\n",
        "      video.style.display = 'block';\n",
        "      video.width = div.clientWidth - 6;\n",
        "      video.setAttribute('playsinline', '');\n",
        "      video.onclick = () => { shutdown = true; };\n",
        "      stream = await navigator.mediaDevices.getUserMedia(\n",
        "          {video: { facingMode: \"environment\"}});\n",
        "      div.appendChild(video);\n",
        "\n",
        "      imgElement = document.createElement('img');\n",
        "      imgElement.style.position = 'absolute';\n",
        "      imgElement.style.zIndex = 1;\n",
        "      imgElement.onclick = () => { shutdown = true; };\n",
        "      div.appendChild(imgElement);\n",
        "      \n",
        "      const instruction = document.createElement('div');\n",
        "      instruction.innerHTML = \n",
        "          '<span style=\"color: red; font-weight: bold;\">' +\n",
        "          'When finished, click here or on the video to stop this demo</span>';\n",
        "      div.appendChild(instruction);\n",
        "      instruction.onclick = () => { shutdown = true; };\n",
        "      \n",
        "      video.srcObject = stream;\n",
        "      await video.play();\n",
        "\n",
        "      captureCanvas = document.createElement('canvas');\n",
        "      captureCanvas.width = 640; //video.videoWidth;\n",
        "      captureCanvas.height = 480; //video.videoHeight;\n",
        "      window.requestAnimationFrame(onAnimationFrame);\n",
        "      \n",
        "      return stream;\n",
        "    }\n",
        "    async function stream_frame(label, imgData) {\n",
        "      if (shutdown) {\n",
        "        removeDom();\n",
        "        shutdown = false;\n",
        "        return '';\n",
        "      }\n",
        "\n",
        "      var preCreate = Date.now();\n",
        "      stream = await createDom();\n",
        "      \n",
        "      var preShow = Date.now();\n",
        "      if (label != \"\") {\n",
        "        labelElement.innerHTML = label;\n",
        "      }\n",
        "            \n",
        "      if (imgData != \"\") {\n",
        "        var videoRect = video.getClientRects()[0];\n",
        "        imgElement.style.top = videoRect.top + \"px\";\n",
        "        imgElement.style.left = videoRect.left + \"px\";\n",
        "        imgElement.style.width = videoRect.width + \"px\";\n",
        "        imgElement.style.height = videoRect.height + \"px\";\n",
        "        imgElement.src = imgData;\n",
        "      }\n",
        "      \n",
        "      var preCapture = Date.now();\n",
        "      var result = await new Promise(function(resolve, reject) {\n",
        "        pendingResolve = resolve;\n",
        "      });\n",
        "      shutdown = false;\n",
        "      \n",
        "      return {'create': preShow - preCreate, \n",
        "              'show': preCapture - preShow, \n",
        "              'capture': Date.now() - preCapture,\n",
        "              'img': result};\n",
        "    }\n",
        "    ''')\n",
        "\n",
        "  display(js)\n",
        "  \n",
        "def video_frame(label, bbox):\n",
        "  data = eval_js('stream_frame(\"{}\", \"{}\")'.format(label, bbox))\n",
        "  return data"
      ],
      "metadata": {
        "id": "VYcQEnuai4EU"
      },
      "execution_count": null,
      "outputs": []
    },
    {
      "cell_type": "code",
      "source": [
        "from time import sleep\n",
        "\n",
        "video_stream()\n",
        "# label for video\n",
        "label_html = 'Capturing...'\n",
        "# initialze bounding box to empty\n",
        "bbox = ''\n",
        "count = 0 \n",
        "while True:\n",
        "    js_reply = video_frame(label_html, bbox)\n",
        "    if not js_reply:\n",
        "        break\n",
        "\n",
        "    # convert JS response to OpenCV Image\n",
        "    frame = js_to_image(js_reply[\"img\"])\n",
        "\n",
        "    # create transparent overlay for bounding box\n",
        "    bbox_array = np.zeros([480,640,4], dtype=np.uint8)\n",
        "\n",
        "    #grab the frame from the threaded video stream and resize it\n",
        "    #to have a maximum width of 400 pixels\n",
        "    # frame=vs.read()\n",
        "    frame=imutils.resize(frame,width=800)\n",
        "    #detect faces in the frame and preict if they are waring masks or not\n",
        "    (locs,preds)=detect_and_predict_mask(frame,faceNet,model)\n",
        "    \n",
        "    #loop over the detected face locations and their corrosponding loactions\n",
        "    \n",
        "    for (box,pred) in zip(locs,preds):\n",
        "        (startX,startY,endX,endY)=box\n",
        "        (mask,withoutMask)=pred\n",
        "        \n",
        "        #determine the class label and color we will use to draw the bounding box and text\n",
        "        label='Mask' if mask>0.5 else 'No Mask'\n",
        "        color=(0,255,0) if label=='Mask' else (0,0,255)\n",
        "        label=\"{}: {:.2f}%\".format(label,max(mask,withoutMask)*100)\n",
        "        #display the label and bounding boxes\n",
        "        cv2.putText(frame,label,(startX,startY-10),cv2.FONT_HERSHEY_SIMPLEX,0.45,color,2)\n",
        "        \n",
        "        cv2.rectangle(frame,(startX,startY),(endX,endY),color,2)\n",
        "        \n",
        "    #show the output frame\n",
        "    cv2_imshow(frame)\n",
        "    try:\n",
        "      sleep(7)\n",
        "    finally:\n",
        "      continue\n"
      ],
      "metadata": {
        "id": "as1x5hErlOwO"
      },
      "execution_count": null,
      "outputs": []
    }
  ],
  "metadata": {
    "colab": {
      "provenance": [],
      "include_colab_link": true
    },
    "kernelspec": {
      "display_name": "env_gpu",
      "language": "python",
      "name": "env_gpu"
    },
    "language_info": {
      "codemirror_mode": {
        "name": "ipython",
        "version": 3
      },
      "file_extension": ".py",
      "mimetype": "text/x-python",
      "name": "python",
      "nbconvert_exporter": "python",
      "pygments_lexer": "ipython3",
      "version": "3.7.16"
    }
  },
  "nbformat": 4,
  "nbformat_minor": 0
}
